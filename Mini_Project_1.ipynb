{
  "nbformat": 4,
  "nbformat_minor": 0,
  "metadata": {
    "colab": {
      "provenance": [],
      "authorship_tag": "ABX9TyNtA+2bO0bNX7DqODvmZvuO",
      "include_colab_link": true
    },
    "kernelspec": {
      "name": "python3",
      "display_name": "Python 3"
    },
    "language_info": {
      "name": "python"
    }
  },
  "cells": [
    {
      "cell_type": "markdown",
      "metadata": {
        "id": "view-in-github",
        "colab_type": "text"
      },
      "source": [
        "<a href=\"https://colab.research.google.com/github/khaled-kk/ECB-and-CBC-encryption-and-decryption-/blob/main/Mini_Project_1.ipynb\" target=\"_parent\"><img src=\"https://colab.research.google.com/assets/colab-badge.svg\" alt=\"Open In Colab\"/></a>"
      ]
    },
    {
      "cell_type": "code",
      "source": [
        "pip install pycryptodome"
      ],
      "metadata": {
        "colab": {
          "base_uri": "https://localhost:8080/"
        },
        "id": "NILSb71Kxld9",
        "outputId": "b73a523d-d491-48e5-c8dc-5e6e7e18d030"
      },
      "execution_count": null,
      "outputs": [
        {
          "output_type": "stream",
          "name": "stdout",
          "text": [
            "Looking in indexes: https://pypi.org/simple, https://us-python.pkg.dev/colab-wheels/public/simple/\n",
            "Requirement already satisfied: pycryptodome in /usr/local/lib/python3.10/dist-packages (3.18.0)\n"
          ]
        }
      ]
    },
    {
      "cell_type": "code",
      "execution_count": null,
      "metadata": {
        "colab": {
          "base_uri": "https://localhost:8080/"
        },
        "id": "LoaedbhYwoev",
        "outputId": "3000cbde-af39-4a87-de3a-652bdae3cef8"
      },
      "outputs": [
        {
          "output_type": "stream",
          "name": "stdout",
          "text": [
            "Key: 1c39ff888728d6ef\n",
            "IV: 13424eb03b0fba8d\n"
          ]
        }
      ],
      "source": [
        "#this is the encryption code that takes a text file and encrypts its data using both the ECB and CBC modes\n",
        "\n",
        "from Crypto.Cipher import DES\n",
        "from Crypto.Util.Padding import pad\n",
        "from Crypto.Random import get_random_bytes\n",
        "\n",
        "def encrypt_file(input_file, output_file_ecb, output_file_cbc):\n",
        "    # Read input file\n",
        "    with open(input_file, 'rb') as f:\n",
        "        input_data = f.read()\n",
        "\n",
        "    # Generate 56-bit DES key\n",
        "    key = get_random_bytes(8)\n",
        "    print(\"Key:\", key.hex())  # Print key in hexadecimal format\n",
        "\n",
        "    # Initialize ECB cipher\n",
        "    ecb_cipher = DES.new(key, DES.MODE_ECB)\n",
        "\n",
        "    # Generate random IV for CBC mode\n",
        "    iv = get_random_bytes(8)\n",
        "    print(\"IV:\", iv.hex())  # Print IV in hexadecimal format\n",
        "\n",
        "    # Initialize CBC cipher with random IV\n",
        "    cbc_cipher = DES.new(key, DES.MODE_CBC, iv=iv)\n",
        "\n",
        "    # Encrypt input using ECB mode\n",
        "    ecb_output = ecb_cipher.encrypt(pad(input_data, DES.block_size))\n",
        "\n",
        "    # Encrypt input using CBC mode\n",
        "    cbc_output = cbc_cipher.encrypt(pad(input_data, DES.block_size))\n",
        "\n",
        "    # Write output files\n",
        "    with open(output_file_ecb, 'wb') as f:\n",
        "        f.write(ecb_output)\n",
        "    with open(output_file_cbc, 'wb') as f:\n",
        "        f.write(cbc_output)\n",
        "\n",
        "# Example usage\n",
        "input_file_path = \"/content/input.txt\"\n",
        "output_file_ecb_path = \"/content/output_ecb.txt\"\n",
        "output_file_cbc_path = \"/content/output_cbc.txt\"\n",
        "encrypt_file(input_file_path, output_file_ecb_path, output_file_cbc_path)\n"
      ]
    },
    {
      "cell_type": "code",
      "source": [
        "#this is the decryption code that takes a text file and encrypts its data using both the ECB and CBC modes\n",
        "\n",
        "from Crypto.Cipher import DES\n",
        "from Crypto.Util.Padding import unpad\n",
        "import binascii\n",
        "\n",
        "def decrypt_file_ecb(input_file, key, output_file):\n",
        "    # Read encrypted file\n",
        "    with open(input_file, 'rb') as f:\n",
        "        encrypted_data = f.read()\n",
        "\n",
        "    # Initialize cipher with key\n",
        "    cipher = DES.new(key, DES.MODE_ECB)\n",
        "\n",
        "    # Decrypt the data\n",
        "    decrypted_data = unpad(cipher.decrypt(encrypted_data), DES.block_size)\n",
        "\n",
        "    # Write decrypted data to output file\n",
        "    with open(output_file, 'wb') as f:\n",
        "        f.write(decrypted_data)\n",
        "\n",
        "def decrypt_file_cbc(input_file, key, iv, output_file):\n",
        "    # Read encrypted file\n",
        "    with open(input_file, 'rb') as f:\n",
        "        encrypted_data = f.read()\n",
        "\n",
        "    # Initialize cipher with key and IV\n",
        "    cipher = DES.new(key, DES.MODE_CBC, iv=iv)\n",
        "\n",
        "    # Decrypt the data\n",
        "    decrypted_data = unpad(cipher.decrypt(encrypted_data), DES.block_size)\n",
        "\n",
        "    # Write decrypted data to output file\n",
        "    with open(output_file, 'wb') as f:\n",
        "        f.write(decrypted_data)\n",
        "\n",
        "# Example usage\n",
        "input_file_path_ecb = \"/content/output_ecb.txt\"\n",
        "output_file_path_ecb = \"/content/decrypted_file_ecb.txt\"\n",
        "key_ecb = binascii.unhexlify('bb6720e4a71f62af')  # Replace with the same key used for encryption in ECB mode\n",
        "decrypt_file_ecb(input_file_path_ecb, key_ecb, output_file_path_ecb)\n",
        "\n",
        "input_file_path_cbc = \"/content/output_cbc.txt\"\n",
        "output_file_path_cbc = \"/content/decrypted_file_cbc.txt\"\n",
        "key_cbc = binascii.unhexlify('bb6720e4a71f62af')  # Replace with the same key used for encryption in CBC mode\n",
        "iv_cbc = binascii.unhexlify('e38e5d1108d4e6d5')  # Replace with the same IV used for encryption in CBC mode\n",
        "decrypt_file_cbc(input_file_path_cbc, key_cbc, iv_cbc, output_file_path_cbc)\n"
      ],
      "metadata": {
        "id": "bLNDyGnX0BQu"
      },
      "execution_count": null,
      "outputs": []
    }
  ]
}